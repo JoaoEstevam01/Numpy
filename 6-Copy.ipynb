{
 "cells": [
  {
   "cell_type": "markdown",
   "id": "c8b38da4",
   "metadata": {},
   "source": [
    "Copy\n",
    "- Uma nova cópia do array é criada em memória.\n",
    "Isso significa que as duas matrizes (original e a cópia) são independentes uma da outra."
   ]
  },
  {
   "cell_type": "markdown",
   "id": "7fd9bff5",
   "metadata": {},
   "source": [
    "View\n",
    "- Não é criado em uma nova cópia na memória. \n",
    "A view compartilha os mesmo dados que o array original."
   ]
  },
  {
   "cell_type": "code",
   "execution_count": 2,
   "id": "92df4be5",
   "metadata": {},
   "outputs": [],
   "source": [
    "import numpy as np"
   ]
  },
  {
   "cell_type": "code",
   "execution_count": 3,
   "id": "3c51859f",
   "metadata": {},
   "outputs": [
    {
     "data": {
      "text/plain": [
       "array([[1, 2, 3],\n",
       "       [4, 5, 6],\n",
       "       [7, 8, 9]])"
      ]
     },
     "execution_count": 3,
     "metadata": {},
     "output_type": "execute_result"
    }
   ],
   "source": [
    "array_original = np.array([[1,2,3],\n",
    "                           [4,5,6],\n",
    "                           [7,8,9]])\n",
    "array_original"
   ]
  },
  {
   "cell_type": "code",
   "execution_count": 4,
   "id": "984d7242",
   "metadata": {},
   "outputs": [
    {
     "data": {
      "text/plain": [
       "array([[5, 6],\n",
       "       [8, 9]])"
      ]
     },
     "execution_count": 4,
     "metadata": {},
     "output_type": "execute_result"
    }
   ],
   "source": [
    "#1-Cópia Rasa (View)\n",
    "array_view = array_original[1:, 1:]\n",
    "array_view"
   ]
  },
  {
   "cell_type": "code",
   "execution_count": 5,
   "id": "686a23ab",
   "metadata": {},
   "outputs": [
    {
     "data": {
      "text/plain": [
       "array([[99,  6],\n",
       "       [ 8,  9]])"
      ]
     },
     "execution_count": 5,
     "metadata": {},
     "output_type": "execute_result"
    }
   ],
   "source": [
    "array_view[0,0] = 99\n",
    "array_view"
   ]
  },
  {
   "cell_type": "code",
   "execution_count": 6,
   "id": "e70e99cb",
   "metadata": {},
   "outputs": [
    {
     "data": {
      "text/plain": [
       "array([[ 1,  2,  3],\n",
       "       [ 4, 99,  6],\n",
       "       [ 7,  8,  9]])"
      ]
     },
     "execution_count": 6,
     "metadata": {},
     "output_type": "execute_result"
    }
   ],
   "source": [
    "array_original"
   ]
  },
  {
   "cell_type": "code",
   "execution_count": 7,
   "id": "a95b5d5d",
   "metadata": {},
   "outputs": [
    {
     "data": {
      "text/plain": [
       "array([[ 1,  2,  3],\n",
       "       [ 4, 99,  6],\n",
       "       [ 7,  8,  9]])"
      ]
     },
     "execution_count": 7,
     "metadata": {},
     "output_type": "execute_result"
    }
   ],
   "source": [
    "#2-Cópia profunda (Copy)\n",
    "array_copia = array_original.copy()\n",
    "array_copia"
   ]
  },
  {
   "cell_type": "code",
   "execution_count": 8,
   "id": "c8a9909a",
   "metadata": {},
   "outputs": [
    {
     "data": {
      "text/plain": [
       "array([[100,   2,   3],\n",
       "       [  4,  99,   6],\n",
       "       [  7,   8,   9]])"
      ]
     },
     "execution_count": 8,
     "metadata": {},
     "output_type": "execute_result"
    }
   ],
   "source": [
    "array_copia[0,0] = 100\n",
    "array_copia"
   ]
  },
  {
   "cell_type": "code",
   "execution_count": null,
   "id": "3d52cc2e",
   "metadata": {},
   "outputs": [],
   "source": []
  }
 ],
 "metadata": {
  "kernelspec": {
   "display_name": ".venv",
   "language": "python",
   "name": "python3"
  },
  "language_info": {
   "codemirror_mode": {
    "name": "ipython",
    "version": 3
   },
   "file_extension": ".py",
   "mimetype": "text/x-python",
   "name": "python",
   "nbconvert_exporter": "python",
   "pygments_lexer": "ipython3",
   "version": "3.11.9"
  }
 },
 "nbformat": 4,
 "nbformat_minor": 5
}
