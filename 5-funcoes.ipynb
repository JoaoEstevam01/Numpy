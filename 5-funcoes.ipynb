{
 "cells": [
  {
   "cell_type": "code",
   "execution_count": 12,
   "id": "5504a9e9",
   "metadata": {},
   "outputs": [],
   "source": [
    "import numpy as np"
   ]
  },
  {
   "cell_type": "code",
   "execution_count": 13,
   "id": "9dd64bb8",
   "metadata": {},
   "outputs": [
    {
     "data": {
      "text/plain": [
       "array([1, 2, 3, 4, 5])"
      ]
     },
     "execution_count": 13,
     "metadata": {},
     "output_type": "execute_result"
    }
   ],
   "source": [
    "array = np.array([1,2,3,4,5])\n",
    "array"
   ]
  },
  {
   "cell_type": "code",
   "execution_count": 14,
   "id": "370c8d93",
   "metadata": {},
   "outputs": [
    {
     "data": {
      "text/plain": [
       "array([11, 12, 13, 14, 15])"
      ]
     },
     "execution_count": 14,
     "metadata": {},
     "output_type": "execute_result"
    }
   ],
   "source": [
    "# 1-adição\n",
    "soma = np.add(array, 10)\n",
    "soma"
   ]
  },
  {
   "cell_type": "code",
   "execution_count": 15,
   "id": "0bdfb305",
   "metadata": {},
   "outputs": [
    {
     "data": {
      "text/plain": [
       "array([-4, -3, -2, -1,  0])"
      ]
     },
     "execution_count": 15,
     "metadata": {},
     "output_type": "execute_result"
    }
   ],
   "source": [
    "#subtração\n",
    "subtracao = np.subtract(array, 5)\n",
    "subtracao"
   ]
  },
  {
   "cell_type": "code",
   "execution_count": 16,
   "id": "981bb699",
   "metadata": {},
   "outputs": [
    {
     "data": {
      "text/plain": [
       "array([ 2,  4,  6,  8, 10])"
      ]
     },
     "execution_count": 16,
     "metadata": {},
     "output_type": "execute_result"
    }
   ],
   "source": [
    "#Multiplicação\n",
    "multiplicacao = np.multiply(array, 2)\n",
    "multiplicacao"
   ]
  },
  {
   "cell_type": "code",
   "execution_count": 17,
   "id": "1e7a0431",
   "metadata": {},
   "outputs": [
    {
     "data": {
      "text/plain": [
       "array([0.5, 1. , 1.5, 2. , 2.5])"
      ]
     },
     "execution_count": 17,
     "metadata": {},
     "output_type": "execute_result"
    }
   ],
   "source": [
    "#Divisao\n",
    "divisao = np.divide(array, 2)\n",
    "divisao"
   ]
  },
  {
   "cell_type": "code",
   "execution_count": 18,
   "id": "ae327165",
   "metadata": {},
   "outputs": [
    {
     "data": {
      "text/plain": [
       "array([ 0.84147098,  0.90929743,  0.14112001, -0.7568025 , -0.95892427])"
      ]
     },
     "execution_count": 18,
     "metadata": {},
     "output_type": "execute_result"
    }
   ],
   "source": [
    "#Funções trigonometricas\n",
    "seno = np.sin(array)\n",
    "seno"
   ]
  },
  {
   "cell_type": "code",
   "execution_count": 19,
   "id": "763d6156",
   "metadata": {},
   "outputs": [
    {
     "data": {
      "text/plain": [
       "array([ 0.54030231, -0.41614684, -0.9899925 , -0.65364362,  0.28366219])"
      ]
     },
     "execution_count": 19,
     "metadata": {},
     "output_type": "execute_result"
    }
   ],
   "source": [
    "cosseno = np.cos(array)\n",
    "cosseno"
   ]
  },
  {
   "cell_type": "code",
   "execution_count": 22,
   "id": "50a4a359",
   "metadata": {},
   "outputs": [
    {
     "data": {
      "text/plain": [
       "np.float64(3.0)"
      ]
     },
     "execution_count": 22,
     "metadata": {},
     "output_type": "execute_result"
    }
   ],
   "source": [
    "#Funções estatistica\n",
    "media = np.mean(array)\n",
    "media"
   ]
  },
  {
   "cell_type": "code",
   "execution_count": 23,
   "id": "ec2b6ca5",
   "metadata": {},
   "outputs": [
    {
     "data": {
      "text/plain": [
       "np.float64(1.4142135623730951)"
      ]
     },
     "execution_count": 23,
     "metadata": {},
     "output_type": "execute_result"
    }
   ],
   "source": [
    "desvio_padrao = np.std(array)\n",
    "desvio_padrao"
   ]
  },
  {
   "cell_type": "code",
   "execution_count": 24,
   "id": "1c6c3d98",
   "metadata": {},
   "outputs": [
    {
     "data": {
      "text/plain": [
       "array([False, False, False,  True,  True])"
      ]
     },
     "execution_count": 24,
     "metadata": {},
     "output_type": "execute_result"
    }
   ],
   "source": [
    "#Funções comparação\n",
    "comparacao_maior_que_3 = array > 3\n",
    "comparacao_maior_que_3"
   ]
  },
  {
   "cell_type": "code",
   "execution_count": 25,
   "id": "8f7d19ac",
   "metadata": {},
   "outputs": [
    {
     "data": {
      "text/plain": [
       "array([ 2.        ,  5.41421356, 10.73205081, 18.        , 27.23606798])"
      ]
     },
     "execution_count": 25,
     "metadata": {},
     "output_type": "execute_result"
    }
   ],
   "source": [
    "#Combinando funções\n",
    "resultado = np.sqrt(array) + np.power(array, 2)\n",
    "resultado"
   ]
  },
  {
   "cell_type": "code",
   "execution_count": 27,
   "id": "840920fa",
   "metadata": {},
   "outputs": [
    {
     "data": {
      "text/plain": [
       "array([  2.71828183,   7.3890561 ,  20.08553692,  54.59815003,\n",
       "       148.4131591 ])"
      ]
     },
     "execution_count": 27,
     "metadata": {},
     "output_type": "execute_result"
    }
   ],
   "source": [
    "#Funções exponeciais\n",
    "exponencial = np.exp(array)\n",
    "exponencial"
   ]
  },
  {
   "cell_type": "code",
   "execution_count": 28,
   "id": "92bb66e0",
   "metadata": {},
   "outputs": [
    {
     "data": {
      "text/plain": [
       "array([0.        , 0.69314718, 1.09861229, 1.38629436, 1.60943791])"
      ]
     },
     "execution_count": 28,
     "metadata": {},
     "output_type": "execute_result"
    }
   ],
   "source": [
    "#Logaritmo\n",
    "logaritmo = np.log(array)\n",
    "logaritmo"
   ]
  },
  {
   "cell_type": "code",
   "execution_count": 29,
   "id": "2e2993f0",
   "metadata": {},
   "outputs": [
    {
     "data": {
      "text/plain": [
       "array([0., 1., 2., 2., 2.])"
      ]
     },
     "execution_count": 29,
     "metadata": {},
     "output_type": "execute_result"
    }
   ],
   "source": [
    "#Funções arredondamento\n",
    "arredondado = np.round(array/2)\n",
    "arredondado"
   ]
  },
  {
   "cell_type": "code",
   "execution_count": 30,
   "id": "990f4fb1",
   "metadata": {},
   "outputs": [
    {
     "data": {
      "text/plain": [
       "array([  1,   8,  27,  64, 125])"
      ]
     },
     "execution_count": 30,
     "metadata": {},
     "output_type": "execute_result"
    }
   ],
   "source": [
    "#Função de potencia\n",
    "potencial = np.power(array, 3)\n",
    "potencial"
   ]
  },
  {
   "cell_type": "code",
   "execution_count": null,
   "id": "0b5019a4",
   "metadata": {},
   "outputs": [],
   "source": []
  }
 ],
 "metadata": {
  "kernelspec": {
   "display_name": ".venv",
   "language": "python",
   "name": "python3"
  },
  "language_info": {
   "codemirror_mode": {
    "name": "ipython",
    "version": 3
   },
   "file_extension": ".py",
   "mimetype": "text/x-python",
   "name": "python",
   "nbconvert_exporter": "python",
   "pygments_lexer": "ipython3",
   "version": "3.11.9"
  }
 },
 "nbformat": 4,
 "nbformat_minor": 5
}
